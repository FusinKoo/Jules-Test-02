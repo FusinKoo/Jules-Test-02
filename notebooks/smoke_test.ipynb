{
  "cells": [
    {
      "cell_type": "code",
      "metadata": {},
      "source": [
        "import os, subprocess, sys, torch\n",
        "def run_smoke(device):\n",
        "    env = dict(os.environ)\n",
        "    if device == \"cpu\":\n",
        "        env[\"CUDA_VISIBLE_DEVICES\"] = \"\"\n",
        "    print(f\"Running smoke tests on {device.upper()}...\")\n",
        "    subprocess.run([sys.executable, \"-m\", \"pytest\", \"tests/smoke\", \"-q\"], check=True, env=env)\n",
        "\n",
        "run_smoke(\"cpu\")\n",
        "if torch.cuda.is_available():\n",
        "    run_smoke(\"gpu\")\n",
        "else:\n",
        "    print(\"GPU not available; GPU smoke test skipped.\")\n"
      ],
      "outputs": [],
      "execution_count": null
    }
  ],
  "metadata": {
    "kernelspec": {
      "display_name": "Python 3",
      "language": "python",
      "name": "python3"
    },
    "language_info": {
      "name": "python",
      "version": "3.10"
    }
  },
  "nbformat": 4,
  "nbformat_minor": 5
}