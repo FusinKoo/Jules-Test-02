{
 "cells": [
  {
   "cell_type": "code",
   "execution_count": null,
   "metadata": {},
   "outputs": [],
   "source": [
    "# @title Environment Setup\n",
    "import os, re, subprocess, sys\n",
    "\n",
    "def run(cmd):\n",
    "    print('+', ' '.join(cmd))\n",
    "    subprocess.run(cmd, check=True)\n",
    "\n",
    "try:\n",
    "    run(['apt-get', 'update'])\n",
    "    run(['apt-get', 'install', '-y', 'ffmpeg'])\n",
    "except Exception as e:\n",
    "    print('Skipping apt-get install:', e)\n",
    "\n",
    "\n",
    "gpu = subprocess.run(['bash','-lc','nvidia-smi'], capture_output=True, text=True)\n",
    "has_gpu = gpu.returncode == 0\n",
    "index = os.environ.get('PYTORCH_INDEX_URL')\n",
    "if not index and has_gpu:\n",
    "    m = re.search(r'CUDA Version: (\\d+)\\.(\\d+)', gpu.stdout or gpu.stderr)\n",
    "    if m:\n",
    "        index = f\"https://download.pytorch.org/whl/cu{m.group(1)}{m.group(2)}\"\n",
    "if not index:\n",
    "    index = \"https://download.pytorch.org/whl/cpu\"\n",
    "print('Using PyTorch index:', index)\n",
    "try:\n",
    "    run([sys.executable, '-m', 'pip', 'install', f'--index-url={index}', 'torch==2.3.0', 'torchvision==0.18.0', 'torchaudio==2.3.0'])\n",
    "except subprocess.CalledProcessError:\n",
    "    fallback = \"https://download.pytorch.org/whl/cpu\"\n",
    "    print('PyTorch install failed, falling back to', fallback)\n",
    "    run([sys.executable, '-m', 'pip', 'install', f'--index-url={fallback}', 'torch==2.3.0', 'torchvision==0.18.0', 'torchaudio==2.3.0'])\n",
    "\n",
    "req = 'requirements-colab-gpu.txt' if has_gpu else 'requirements-colab-cpu.txt'\n",
    "run([sys.executable, '-m', 'pip', 'install', '-r', req])\n",
    "subprocess.run(['ffmpeg', '-version'])\n",
    "import torch, soxr\n",
    "print('torch', torch.__version__)\n",
    "print('CUDA available:', torch.cuda.is_available())\n"
   ]
  },
  {
   "cell_type": "code",
   "execution_count": null,
   "metadata": {},
   "outputs": [],
   "source": [
    "# @title Mount Google Drive\n",
    "from google.colab import drive\n",
    "drive.mount('/content/drive')\n"
   ]
  },
  {
   "cell_type": "code",
   "execution_count": null,
   "metadata": {},
   "outputs": [],
   "source": [
    "# @title Upload stems to Drive\n",
    "# Upload four WAV files named vocals.wav, drums.wav, bass.wav and other.wav\n",
    "from google.colab import files\n",
    "import os\n",
    "INPUT_DIR = '/content/drive/MyDrive/AutoMix/input'  # @param {type:\"string\"}\n",
    "os.makedirs(INPUT_DIR, exist_ok=True)\n",
    "uploaded = files.upload()\n",
    "for name, data in uploaded.items():\n",
    "    with open(os.path.join(INPUT_DIR, name), 'wb') as f:\n",
    "        f.write(data)\n",
    "print('Uploaded files:', list(uploaded.keys()))\n"
   ]
  },
  {
   "cell_type": "code",
   "execution_count": null,
   "metadata": {},
   "outputs": [],
   "source": [
    "# @title Run pipeline\n",
    "import os, sys, subprocess\n",
    "INPUT_DIR = '/content/drive/MyDrive/AutoMix/input'  # @param {type:\"string\"}\n",
    "OUTPUT_DIR = '/content/drive/MyDrive/AutoMix/output'  # @param {type:\"string\"}\n",
    "os.makedirs(OUTPUT_DIR, exist_ok=True)\n",
    "cmd = [sys.executable, 'scripts/pipeline_gdrive.py', '--input', INPUT_DIR, '--output', OUTPUT_DIR]\n",
    "subprocess.run(cmd, check=True)\n",
    "print('Output files:', os.listdir(OUTPUT_DIR))\n"
   ]
  },
  {
   "cell_type": "code",
   "execution_count": null,
   "metadata": {},
   "outputs": [],
   "source": [
    "# @title Play mixed result\n",
    "import os\n",
    "from IPython.display import Audio\n",
    "OUTPUT_DIR = '/content/drive/MyDrive/AutoMix/output'  # @param {type:\"string\"}\n",
    "audio_path = os.path.join(OUTPUT_DIR, 'mix.wav')\n",
    "if os.path.exists(audio_path):\n",
    "    display(Audio(filename=audio_path))\n",
    "else:\n",
    "    print('mix.wav not found')\n"
   ]
  }
 ],
 "metadata": {
  "kernelspec": {
   "display_name": "Python 3",
   "language": "python",
   "name": "python3"
  },
  "language_info": {
   "name": "python"
  }
 },
 "nbformat": 4,
 "nbformat_minor": 5
}