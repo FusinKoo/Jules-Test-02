{
 "cells": [
  {
   "cell_type": "code",
   "metadata": {},
   "source": [
    "# If running in Colab, install conda\n",
    "try:\n",
    "    import condacolab\n",
    "    condacolab.install()\n",
    "except Exception:\n",
    "    pass"
   ],
   "execution_count": null,
   "outputs": []
  },
  {
   "cell_type": "code",
   "metadata": {},
   "source": [
    "import torch\n",
    "print('Using device', 'cuda' if torch.cuda.is_available() else 'cpu')"
   ],
   "execution_count": null,
   "outputs": []
  },
  {
   "cell_type": "code",
   "metadata": {},
   "source": [
    "from mix import process\n",
    "process('../tests/smoke/input', 'demo_output')"
   ],
   "execution_count": null,
   "outputs": []
  }
 ],
 "metadata": {
  "kernelspec": {
   "display_name": "Python 3",
   "language": "python",
   "name": "python3"
  },
  "language_info": {
   "name": "python"
  }
 },
 "nbformat": 4,
 "nbformat_minor": 5
}
