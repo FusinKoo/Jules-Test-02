{
 "cells": [
  {
   "cell_type": "code",
   "metadata": {},
   "execution_count": null,
   "outputs": [],
   "source": [
    "import os, subprocess, sys\n",
    "gpu = subprocess.run('nvidia-smi', shell=True, stdout=subprocess.DEVNULL, stderr=subprocess.DEVNULL).returncode == 0\n",
    "req = 'requirements-colab-gpu.txt' if gpu else 'requirements-colab-cpu.txt'\n",
    "subprocess.run(['apt-get','-y','update'], check=True)\n",
    "subprocess.run(['apt-get','-y','install','ffmpeg'], check=True)\n",
    "subprocess.run([sys.executable,'-m','pip','install','-r',req], check=True)\n",
    "if gpu:\n",
    "    subprocess.run([sys.executable,'-m','pip','install','torch','torchaudio','torchvision','--index-url','https://download.pytorch.org/whl/cu121'], check=True)\n",
    "else:\n",
    "    subprocess.run([sys.executable,'-m','pip','install','torch','torchaudio','torchvision','--index-url','https://download.pytorch.org/whl/cpu'], check=True)\n"
   ]
  },
  {
   "cell_type": "code",
   "metadata": {},
   "execution_count": null,
   "outputs": [],
   "source": [
    "import math, wave, array, subprocess, os\n",
    "from pathlib import Path\n",
    "\n",
    "def _write_tone(path, freq, duration=5, sr=44100):\n",
    "    t = [math.sin(2*math.pi*freq*i/sr) for i in range(int(duration*sr))]\n",
    "    ints = array.array('h', [int(max(-1.0,min(1.0,x))*32767) for x in t])\n",
    "    path.parent.mkdir(parents=True, exist_ok=True)\n",
    "    with wave.open(str(path), 'wb') as wf:\n",
    "        wf.setnchannels(1); wf.setsampwidth(2); wf.setframerate(sr); wf.writeframes(ints.tobytes())\n",
    "\n",
    "def make_demo(directory):\n",
    "    freqs={'vocals':440,'drums':220,'bass':110,'other':330}\n",
    "    for name,f in freqs.items():\n",
    "        _write_tone(directory / f'{name}.wav', f)\n",
    "\n",
    "inp = Path('demo_stems')\n",
    "out = Path('demo_output')\n",
    "make_demo(inp)\n",
    "subprocess.run([sys.executable, 'scripts/mix_cli.py', str(inp), str(out)], check=True)\n",
    "print('Mixed files:', os.listdir(out))\n"
   ]
  }
 ],
 "metadata": {
  "kernelspec": {
   "display_name": "Python 3",
   "language": "python",
   "name": "python3"
  },
  "language_info": {
   "name": "python"
  }
 },
 "nbformat": 4,
 "nbformat_minor": 5
}