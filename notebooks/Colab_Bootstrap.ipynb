{
 "cells": [
  {
   "cell_type": "code",
   "execution_count": null,
   "metadata": {},
   "outputs": [],
   "source": [
    "# @title Environment Setup\n",
    "import os, re, subprocess, sys\n",
    "from pathlib import Path\n",
    "\n",
    "def run(cmd):\n",
    "    print('+', ' '.join(cmd))\n",
    "    subprocess.run(cmd, check=True)\n",
    "\n",
    "try:\n",
    "    run(['apt-get', 'update'])\n",
    "    apt = Path('apt.txt')\n",
    "    if apt.exists():\n",
    "        pkgs = [p.strip() for p in apt.read_text().splitlines() if p.strip()]\n",
    "        if pkgs:\n",
    "            run(['apt-get', 'install', '-y', *pkgs])\n",
    "except Exception as e:\n",
    "    print('Skipping apt-get install:', e)\n",
    "\n",
    "gpu = subprocess.run(['bash','-lc','nvidia-smi'], capture_output=True, text=True)\n",
    "has_gpu = gpu.returncode == 0\n",
    "index = os.environ.get('PYTORCH_INDEX_URL')\n",
    "if not index and has_gpu:\n",
    "    m = re.search(r'CUDA Version: (\\d+)\\.(\\d+)', gpu.stdout or gpu.stderr)\n",
    "    if m:\n",
    "        index = f\"https://download.pytorch.org/whl/cu{m.group(1)}{m.group(2)}\"\n",
    "if not index:\n",
    "    index = \"https://download.pytorch.org/whl/cpu\"\n",
    "print('Using PyTorch index:', index)\n",
    "try:\n",
    "    run([sys.executable, '-m', 'pip', 'install', f'--index-url={index}', 'torch==2.3.0', 'torchvision==0.18.0', 'torchaudio==2.3.0'])\n",
    "except subprocess.CalledProcessError:\n",
    "    fallback = \"https://download.pytorch.org/whl/cpu\"\n",
    "    print('PyTorch install failed, falling back to', fallback)\n",
    "    run([sys.executable, '-m', 'pip', 'install', f'--index-url={fallback}', 'torch==2.3.0', 'torchvision==0.18.0', 'torchaudio==2.3.0'])\n",
    "\n",
    "req = 'requirements-colab-gpu.txt' if has_gpu else 'requirements-colab-cpu.txt'\n",
    "run([sys.executable, '-m', 'pip', 'install', '-r', req])\n",
    "\n",
    "print('Python', sys.version)\n",
    "subprocess.run(['ffmpeg', '-version'])\n",
    "import torch, torchvision, torchaudio, soxr\n",
    "print('torch', torch.__version__)\n",
    "print('torchvision', torchvision.__version__)\n",
    "print('torchaudio', torchaudio.__version__)\n",
    "print('CUDA available:', torch.cuda.is_available())\n",
    "print('Resampler backend:', 'soxr', getattr(soxr, '__version__', 'unknown'))\n"
   ]
  }
 ],
 "metadata": {
  "kernelspec": {
   "display_name": "Python 3",
   "language": "python",
   "name": "python3"
  },
  "language_info": {
   "name": "python"
  }
 },
 "nbformat": 4,
 "nbformat_minor": 5
}