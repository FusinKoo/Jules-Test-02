{
  "cells": [
    {
      "cell_type": "code",
      "execution_count": null,
      "metadata": {},
      "outputs": [],
      "source": [
        "#@title Bootstrap environment\n",
        "import os, sys, subprocess\n",
        "\n",
        "def run(cmd):\n",
        "    print('+', ' '.join(cmd))\n",
        "    subprocess.run(cmd, check=True)\n",
        "\n",
        "run(['apt-get', 'update'])\n",
        "run(['apt-get', 'install', '-y', 'ffmpeg'])\n",
        "\n",
        "try:\n",
        "    subprocess.check_output(['nvidia-smi'])\n",
        "    gpu_available = True\n",
        "except Exception:\n",
        "    gpu_available = False\n",
        "print('GPU detected:', gpu_available)\n",
        "\n",
        "req_file = 'requirements-colab-gpu.txt' if gpu_available else 'requirements-colab-cpu.txt'\n",
        "run([sys.executable, '-m', 'pip', 'install', '-r', req_file])\n",
        "\n",
        "print('Python', sys.version)\n",
        "subprocess.run(['ffmpeg', '-version'])\n",
        "try:\n",
        "    import numpy, numba, librosa, soundfile, tqdm\n",
        "    print('numpy', numpy.__version__)\n",
        "    print('numba', numba.__version__)\n",
        "    print('librosa', librosa.__version__)\n",
        "    print('soundfile', soundfile.__version__)\n",
        "    import torch\n",
        "    print('torch', torch.__version__)\n",
        "    print('CUDA available:', torch.cuda.is_available())\n",
        "    if torch.cuda.is_available():\n",
        "        print('CUDA device:', torch.cuda.get_device_name(0))\n",
        "except ImportError:\n",
        "    pass\n"
      ]
    }
  ],
  "metadata": {
    "kernelspec": {
      "display_name": "Python 3",
      "language": "python",
      "name": "python3"
    },
    "language_info": {
      "name": "python"
    }
  },
  "nbformat": 4,
  "nbformat_minor": 5
}