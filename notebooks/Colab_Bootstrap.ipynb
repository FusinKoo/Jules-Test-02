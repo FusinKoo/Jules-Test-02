{
 "cells": [
  {
   "cell_type": "markdown",
   "source": [
    "This notebook is deprecated. Please use the main demo notebook instead:\\n",
    "\\n",
    "[Open demo.ipynb](demo.ipynb)"
   ],
   "metadata": {}
  }
 ],
 "metadata": {
  "kernelspec": {
   "display_name": "Python 3",
   "language": "python",
   "name": "python3"
  },
  "language_info": {
   "name": "python"
  }
 },
 "nbformat": 4,
 "nbformat_minor": 5
}